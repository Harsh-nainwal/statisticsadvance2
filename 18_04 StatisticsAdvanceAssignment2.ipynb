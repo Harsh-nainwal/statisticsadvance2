{
 "cells": [
  {
   "cell_type": "markdown",
   "id": "076cc078-a9b6-4dcf-b85a-f2ed7f6baedd",
   "metadata": {},
   "source": [
    "\n",
    "Q1: What are the Probability Mass Function (PMF) and Probability Density Function (PDF)? Explain with an example.\n",
    "\n",
    "Probability Mass Function (PMF): PMF is used for discrete random variables and gives the probability that a discrete random variable is exactly equal to some value. It is typically represented as a function that maps each possible value of the random variable to its probability.\n",
    "Probability Density Function (PDF): PDF is used for continuous random variables and gives the probability density at a particular value of the random variable. It represents the relative likelihood of the random variable taking on a particular value within a given range.\n",
    "Example: For a fair six-sided die, the PMF would assign a probability of \n",
    "1\n",
    "6\n",
    "6\n",
    "1\n",
    "​\n",
    "  to each possible outcome (1, 2, 3, 4, 5, or 6). For a continuous variable like the height of adult humans, the PDF would describe the relative likelihood of finding individuals with heights within a particular range, such as between 5 feet and 6 feet tall.\n",
    "Q2: What is Cumulative Density Function (CDF)? Explain with an example. Why CDF is used?\n",
    "\n",
    "Cumulative Density Function (CDF): CDF gives the probability that a random variable will take a value less than or equal to a given value. It represents the cumulative probability distribution of a random variable.\n",
    "Example: Consider a fair six-sided die. The CDF would give the probability of rolling a value less than or equal to a given number. For example, the CDF at 3 would be \n",
    "1\n",
    "2\n",
    "2\n",
    "1\n",
    "​\n",
    " , indicating that there is a 50% chance of rolling a number less than or equal to 3. CDF is used to understand the distribution of data and calculate probabilities for specific events.\n",
    "Q3: What are some examples of situations where the normal distribution might be used as a model? Explain how the parameters of the normal distribution relate to the shape of the distribution.\n",
    "\n",
    "Normal distribution might be used as a model in situations where the data is symmetrically distributed around the mean and follows a bell-shaped curve. Examples include:\n",
    "Heights of a population\n",
    "IQ scores\n",
    "Errors in measurements\n",
    "The parameters of the normal distribution are the mean (μ) and the standard deviation (σ). The mean determines the center of the distribution, while the standard deviation determines the spread or width of the distribution. A larger standard deviation leads to a wider and flatter curve, while a smaller standard deviation results in a narrower and taller curve.\n",
    "\n",
    "Q4: Explain the importance of Normal Distribution. Give a few real-life examples of Normal Distribution.\n",
    "\n",
    "Normal distribution is important because many natural phenomena and human characteristics follow this distribution. It allows for easy interpretation and prediction of data.\n",
    "Real-life examples include:\n",
    "Heights of adult humans\n",
    "IQ scores\n",
    "Blood pressure measurements\n",
    "Errors in measurements, such as in manufacturing processes"
   ]
  },
  {
   "cell_type": "markdown",
   "id": "6dbf7894-0261-4a51-aca2-d496e279e8b5",
   "metadata": {},
   "source": [
    "Q5: What is Bernoulli Distribution? Give an Example. What is the difference between Bernoulli Distribution and Binomial Distribution?\n",
    "\n",
    "Bernoulli Distribution is a discrete probability distribution with two possible outcomes, typically labeled as success and failure, with respective probabilities \n",
    "p and 1−p."
   ]
  },
  {
   "cell_type": "markdown",
   "id": "8ff49ff3-f3e7-44f7-81d7-ad63ce689385",
   "metadata": {},
   "source": [
    "\n",
    "Q6: Consider a dataset with a mean of 50 and a standard deviation of 10. If we assume that the dataset is normally distributed, what is the probability that a randomly selected observation will be greater than 60? Use the appropriate formula and show your calculations.\n",
    "\n",
    "To find the probability that a randomly selected observation from a normal distribution with mean\n",
    "50\n",
    "μ=50 and standard deviation\n",
    "σ=10 is greater than 60, we can use the standard normal distribution table or the Z-score formula."
   ]
  },
  {
   "cell_type": "markdown",
   "id": "d8e613cb-8a7f-4f9b-b579-70d09c74f44a",
   "metadata": {},
   "source": [
    "Q9: What is Central Limit Theorem? State the significance of the Central Limit Theorem.\n",
    "The Central Limit Theorem (CLT) states that the sampling distribution of the sample mean of a random sample drawn from any population approaches a normal distribution as the sample size increases, regardless of the shape of the original population distribution. In other words, regardless of the shape of the population distribution, the distribution of sample means will be approximately normal if the sample size is large enough.\n",
    "Significance of the Central Limit Theorem:\n",
    "\n",
    "It provides a foundation for many statistical methods, such as hypothesis testing and confidence intervals.\n",
    "It allows us to make inferences about population parameters based on sample statistics.\n",
    "It is widely applicable across different fields of study, making it a fundamental concept in statistics.\n",
    "Q10: State the assumptions of the Central Limit Theorem.\n",
    "The assumptions of the Central Limit Theorem include:\n",
    "\n",
    "Random sampling: The sample is selected randomly from the population.\n",
    "Sample size: The sample size is sufficiently large. While there is no strict rule for what constitutes a \"large\" sample size, a commonly cited guideline is that the sample size should be greater than or equal to 30.\n",
    "Independence: The individual observations in the sample are independent of each other.\n",
    "These assumptions ensure that the sampling distribution of the sample mean approaches a normal distribution as predicted by the Central Limit Theorem."
   ]
  },
  {
   "cell_type": "code",
   "execution_count": null,
   "id": "59187f26-a252-49ee-a846-57a3a676df13",
   "metadata": {},
   "outputs": [],
   "source": []
  }
 ],
 "metadata": {
  "kernelspec": {
   "display_name": "Python 3 (ipykernel)",
   "language": "python",
   "name": "python3"
  },
  "language_info": {
   "codemirror_mode": {
    "name": "ipython",
    "version": 3
   },
   "file_extension": ".py",
   "mimetype": "text/x-python",
   "name": "python",
   "nbconvert_exporter": "python",
   "pygments_lexer": "ipython3",
   "version": "3.10.8"
  }
 },
 "nbformat": 4,
 "nbformat_minor": 5
}
